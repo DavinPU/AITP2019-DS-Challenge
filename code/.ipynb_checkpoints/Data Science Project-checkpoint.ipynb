{
 "cells": [
  {
   "cell_type": "code",
   "execution_count": 1,
   "metadata": {},
   "outputs": [
    {
     "name": "stdout",
     "output_type": "stream",
     "text": [
      "-rw-r--r-- 1 glentner itap  76G Mar 21 21:16 /home/glentner/public/datasets/noaa/gsod.obs.csv\r\n",
      "-rw-r--r-- 1 glentner itap 2.1M Mar 22 10:52 /home/glentner/public/datasets/noaa/gsod.stn.csv\r\n"
     ]
    }
   ],
   "source": [
    "!ls -lh /home/glentner/public/datasets/noaa/gsod*"
   ]
  },
  {
   "cell_type": "code",
   "execution_count": 2,
   "metadata": {},
   "outputs": [
    {
     "name": "stdout",
     "output_type": "stream",
     "text": [
      "==> /home/glentner/public/datasets/noaa/gsod.obs.csv <==\n",
      "station_id,wban_id,datetime,measure_id,measure_value,measure_ref\n",
      "33790,99999,1929/08/01,0001,57.5,4\n",
      "37770,99999,1929/08/01,0017,0.0,0\n",
      "37770,99999,1929/08/01,0014,1.0,0\n",
      "37770,99999,1929/08/01,0011,99.99,0\n",
      "37950,99999,1929/08/01,0007,23.9,0\n",
      "33790,99999,1929/08/01,0015,0.0,0\n",
      "37770,99999,1929/08/01,0010,57.0,0\n",
      "34970,99999,1929/08/01,0006,14.0,5\n",
      "37950,99999,1929/08/01,0006,17.2,4\n",
      "\n",
      "==> /home/glentner/public/datasets/noaa/gsod.stn.csv <==\n",
      "station_id,wban_id,station_name,country,state,call_name,latitude,longitude,elevation,date_start,date_end\n",
      "007018,99999,WXPOD 7018                   ,,,,0.0,0.0,+7018.0,20110309,20130730\n",
      "007026,99999,WXPOD 7026                   ,AF,,,0.0,0.0,+7026.0,20120713,20170822\n",
      "007070,99999,WXPOD 7070                   ,AF,,,0.0,0.0,+7070.0,20140923,20150926\n",
      "008268,99999,WXPOD8278                    ,AF,,,32.95,65.567,+1156.7,20100519,20120323\n",
      "008307,99999,WXPOD 8318                   ,AF,,,0.0,0.0,+8318.0,20100421,20100421\n",
      "010016,99999,RORVIK/RYUM,NO,,,64.85,11.233,+0014.0,19870116,19910806\n",
      "010017,99999,FRIGG,NO,,ENFR,59.98,2.25,+0048.0,19880320,20050228\n",
      "010071,99999,LONGYEARBYEN,SV,,,78.217,15.583,+0037.0,20050210,20050210\n",
      "010190,99999,SVARTTANGEN,NO,,,77.517,20.817,+0020.0,20100825,20140523\n"
     ]
    }
   ],
   "source": [
    "!head /home/glentner/public/datasets/noaa/gsod*"
   ]
  },
  {
   "cell_type": "code",
   "execution_count": 27,
   "metadata": {},
   "outputs": [],
   "source": [
    "import csv"
   ]
  },
  {
   "cell_type": "code",
   "execution_count": 38,
   "metadata": {},
   "outputs": [
    {
     "name": "stdout",
     "output_type": "stream",
     "text": [
      "columns are: station_id, wban_id, station_name, country, state, call_name, latitude, longitude, elevation, date_start, date_end\n",
      "80\n",
      "['692644', '720543', '720575', '720593', '720736', '720815', '720903', '720961', '721029', '724325', '724360', '724361', '724370', '724371', '724373', '725334', '726358', '744214', '744660', '744680', '749015', '749074', '749076', '999999', '724388', '724363', '720266', '724356', '724365', '724375', '724384', '724385', '724387', '725327', '725335', '725336', '725337', '725354', '997339', '997787', '724320', '724380', '724386', '725330', '725350']\n"
     ]
    }
   ],
   "source": [
    "IN_data = []\n",
    "IN_stationIds = []\n",
    "\n",
    "with open(\"/home/glentner/public/datasets/noaa/gsod.stn.csv\", 'r') as csv_file:\n",
    "    csv_reader = csv.reader(csv_file, delimiter=',')\n",
    "    line_count = 0\n",
    "    for row in csv_reader:\n",
    "        if line_count == 0:\n",
    "            print \"columns are: \" + \", \".join(row)\n",
    "            line_count += 1\n",
    "        else:\n",
    "            if row[4] == \"IN\":\n",
    "                IN_data.append(row)\n",
    "                if row[0] not in IN_stationIds:\n",
    "                    IN_stationIds.append(row[0])\n",
    "                \n",
    "print len(IN_data)\n",
    "print IN_stationIds"
   ]
  },
  {
   "cell_type": "code",
   "execution_count": null,
   "metadata": {},
   "outputs": [],
   "source": [
    "station_data = []\n",
    "\n",
    "with open(\"/home/glentner/public/datasets/noaa/gsod.obs.csv\", 'r') as csv_obs_file:\n",
    "    csv_reader2 = csv.reader(csv_obs_file, delimiter=',')\n",
    "    line = 0\n",
    "    for row in csv_reader2:\n",
    "        if line == 0:\n",
    "            print \"columns are: \" + \", \".join(row)\n",
    "            line+=1\n",
    "        if row[0] in IN_stationIds:\n",
    "            station_data.append(row)\n",
    "print len(row)"
   ]
  },
  {
   "cell_type": "code",
   "execution_count": null,
   "metadata": {},
   "outputs": [],
   "source": []
  }
 ],
 "metadata": {
  "kernelspec": {
   "display_name": "Python 2.7 [anaconda/5.1.0-py27]",
   "language": "python",
   "name": "sys_python27"
  },
  "language_info": {
   "codemirror_mode": {
    "name": "ipython",
    "version": 2
   },
   "file_extension": ".py",
   "mimetype": "text/x-python",
   "name": "python",
   "nbconvert_exporter": "python",
   "pygments_lexer": "ipython2",
   "version": "2.7.14"
  }
 },
 "nbformat": 4,
 "nbformat_minor": 2
}
